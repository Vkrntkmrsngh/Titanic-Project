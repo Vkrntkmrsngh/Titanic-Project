{
 "cells": [
  {
   "cell_type": "markdown",
   "metadata": {},
   "source": [
    "# API creation"
   ]
  },
  {
   "cell_type": "code",
   "execution_count": 1,
   "metadata": {},
   "outputs": [],
   "source": [
    "import os\n",
    "hello_world_script_fie=os.path.join(os.path.pardir,'src','models','hello_world_api.py')"
   ]
  },
  {
   "cell_type": "code",
   "execution_count": 2,
   "metadata": {},
   "outputs": [
    {
     "name": "stdout",
     "output_type": "stream",
     "text": [
      "Writing ..\\src\\models\\hello_world_api.py\n"
     ]
    }
   ],
   "source": [
    "%%writefile $hello_world_script_fie\n",
    "\n",
    "from flask import Flask,request\n",
    "\n",
    "app=Flask(__name__)\n",
    "@app.route('/api',methods=['POST'])\n",
    "\n",
    "def say_hello():\n",
    "    data=request.get_json(force=True)\n",
    "    name=data['name']\n",
    "    return \"Hello {0}\".format(name)\n",
    "\n",
    "if __name__=='__main__':\n",
    "    app.run(port=10001,debug=True)"
   ]
  },
  {
   "cell_type": "code",
   "execution_count": 7,
   "metadata": {},
   "outputs": [],
   "source": [
    "#run api in gitbash using python hello_world_api.py in folder in which it resides"
   ]
  },
  {
   "cell_type": "code",
   "execution_count": 3,
   "metadata": {},
   "outputs": [],
   "source": [
    "import json\n",
    "import requests"
   ]
  },
  {
   "cell_type": "code",
   "execution_count": 4,
   "metadata": {},
   "outputs": [],
   "source": [
    "url='http://127.0.0.1:10001/api'\n",
    "data=json.dumps({'name':'Vikrant'})\n",
    "r=requests.post(url,data)"
   ]
  },
  {
   "cell_type": "code",
   "execution_count": 6,
   "metadata": {},
   "outputs": [
    {
     "name": "stdout",
     "output_type": "stream",
     "text": [
      "Hello Vikrant\n"
     ]
    }
   ],
   "source": [
    "print(r.text)"
   ]
  },
  {
   "cell_type": "markdown",
   "metadata": {},
   "source": [
    "## Machine learning api using flask"
   ]
  },
  {
   "cell_type": "markdown",
   "metadata": {},
   "source": [
    "### Building API"
   ]
  },
  {
   "cell_type": "code",
   "execution_count": 8,
   "metadata": {},
   "outputs": [],
   "source": [
    "machine_learning_api_script_file=os.path.join(os.path.pardir,'src','models','titanic_api.py')"
   ]
  },
  {
   "cell_type": "code",
   "execution_count": 17,
   "metadata": {},
   "outputs": [
    {
     "name": "stdout",
     "output_type": "stream",
     "text": [
      "Overwriting ..\\src\\models\\titanic_api.py\n"
     ]
    }
   ],
   "source": [
    "%%writefile $machine_learning_api_script_file\n",
    "\n",
    "from flask import Flask,request\n",
    "import pickle\n",
    "import numpy as np\n",
    "import pandas as pd\n",
    "import os\n",
    "import json\n",
    "\n",
    "app=Flask(__name__)\n",
    "\n",
    "\n",
    "#load modal and scaler files\n",
    "model_path=os.path.join(os.path.pardir,'models')\n",
    "model_file_path=os.path.join(model_path,'lr_model.pkl')\n",
    "scaler_file_path=os.path.join(model_path,'lr_scalar.pkl')\n",
    "\n",
    "#open files in read mode\n",
    "model_file_pickle=open(model_file_path,'rb')\n",
    "scaler_file_pickle=open(scaler_file_path,'rb')\n",
    "\n",
    "scaler=pickle.load(model_file_pickle)\n",
    "model=pickle.load(scaler_file_pickle)\n",
    "\n",
    "model_file_pickle.close()\n",
    "scaler_file_pickle.close()\n",
    "\n",
    "columns=['Age', 'Fare', 'FamilySize', 'IsMother', 'Ismale', 'Deck_A',\\\n",
    "       'Deck_B', 'Deck_C', 'Deck_D', 'Deck_E', 'Deck_F', 'Deck_G', 'Deck_Z',\\\n",
    "       'Pclass_1', 'Pclass_2', 'Pclass_3', 'Title_Lady', 'Title_Master',\\\n",
    "       'Title_Miss', 'Title_Mr', 'Title_Mrs', 'Title_Officer', 'Title_Sir',\\\n",
    "       'Fare_Bin_very_low', 'Fare_Bin_low', 'Fare_Bin_high',\\\n",
    "       'Fare_Bin_very_high', 'Embarked_C', 'Embarked_Q', 'Embarked_S',\\\n",
    "       'AgeState_Adult', 'AgeState_Child']\n",
    "\n",
    "@app.route('\\api',methods=['POST'])\n",
    "\n",
    "def make_prediction():\n",
    "    #read json and convert into json string\n",
    "    data=json.dumps(request.get_json(force=True))\n",
    "    #create panda dataframe\n",
    "    df=pd.read_json(data)\n",
    "    #extract passengerIds\n",
    "    passenger_ids=df['PassengerId'].ravel()\n",
    "    #actual survived values\n",
    "    actuals=df['Survived'].ravel()\n",
    "    #extract required columns and convert to matrix\n",
    "    X=df[columns].as_matrix.astype('float')\n",
    "    #transform the input\n",
    "    X_scaled=scaler.transform(X)\n",
    "    #make predictions\n",
    "    predictions=model.predict(X_scaled)\n",
    "    #create response dataframe\n",
    "    df_response=pd.DataFrame({'PassengerId':passenger_ids,'Predicted':predictions,'Actuals':actuals})\n",
    "    #return json\n",
    "    return df_response.to_json()\n",
    "\n",
    "if __name__=='__main__':\n",
    "    #host flask app at port 10001\n",
    "    app.run(port=10001,debug=True)"
   ]
  },
  {
   "cell_type": "code",
   "execution_count": null,
   "metadata": {},
   "outputs": [],
   "source": []
  }
 ],
 "metadata": {
  "kernelspec": {
   "display_name": "Python 3",
   "language": "python",
   "name": "python3"
  },
  "language_info": {
   "codemirror_mode": {
    "name": "ipython",
    "version": 3
   },
   "file_extension": ".py",
   "mimetype": "text/x-python",
   "name": "python",
   "nbconvert_exporter": "python",
   "pygments_lexer": "ipython3",
   "version": "3.6.4"
  }
 },
 "nbformat": 4,
 "nbformat_minor": 2
}
