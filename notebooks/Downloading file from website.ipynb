{
 "cells": [
  {
   "cell_type": "code",
   "execution_count": 24,
   "metadata": {},
   "outputs": [
    {
     "name": "stdout",
     "output_type": "stream",
     "text": [
      "Requirement already satisfied: python-dotenv in c:\\users\\vkrnt\\anaconda3\\lib\\site-packages (0.8.2)\n"
     ]
    },
    {
     "name": "stderr",
     "output_type": "stream",
     "text": [
      "notebook 5.4.0 requires ipykernel, which is not installed.\n",
      "jupyter 1.0.0 requires ipykernel, which is not installed.\n",
      "jupyter-console 5.2.0 requires ipykernel, which is not installed.\n",
      "ipywidgets 7.1.1 requires ipykernel>=4.5.1, which is not installed.\n",
      "You are using pip version 10.0.1, however version 18.0 is available.\n",
      "You should consider upgrading via the 'python -m pip install --upgrade pip' command.\n"
     ]
    }
   ],
   "source": [
    "!pip install python-dotenv"
   ]
  },
  {
   "cell_type": "code",
   "execution_count": 25,
   "metadata": {},
   "outputs": [],
   "source": [
    "from dotenv import load_dotenv,find_dotenv"
   ]
  },
  {
   "cell_type": "code",
   "execution_count": 26,
   "metadata": {},
   "outputs": [
    {
     "name": "stdout",
     "output_type": "stream",
     "text": [
      "C:\\Users\\vkrnt\\OneDrive\\Documents\\Unix\\titanic\\.env\n",
      "True\n"
     ]
    }
   ],
   "source": [
    "#to find env file in upward direction untill it got found\n",
    "dotenv_path=find_dotenv()\n",
    "#to load path into load_dotenv\n",
    "load_dotenv(dotenv_path)\n",
    "print(dotenv_path)\n",
    "print(load_dotenv(dotenv_path))"
   ]
  },
  {
   "cell_type": "code",
   "execution_count": 29,
   "metadata": {},
   "outputs": [
    {
     "name": "stdout",
     "output_type": "stream",
     "text": [
      "vkrntkmrsngh\n",
      "..\n"
     ]
    }
   ],
   "source": [
    "import os\n",
    "#KAGGLE_USERNAME=os.enviorn.get(\"KAGGLE_USERNAME\")\n",
    "KAGGLE_USERNAME=os.getenv(\"KAGGLE_USERNAME\")\n",
    "print(KAGGLE_USERNAME)\n",
    "print(os.pardir)"
   ]
  },
  {
   "cell_type": "code",
   "execution_count": null,
   "metadata": {},
   "outputs": [],
   "source": [
    "#imports\n",
    "import requests\n",
    "from bs4 import BeautifulSoup\n",
    "from requests import session\n",
    "import os\n",
    "import re\n",
    "from dotenv import load_dotenv,find_dotenv\n",
    "#s=request.sid\n",
    "#payload for post\n",
    "payload={\n",
    "        'action':'Login',\n",
    "        'username':os.getenv(\"KAGGLE_USERNAME\"),\n",
    "        'password':os.getenv(\"KAGGLE_PASSWORD\")  ,\n",
    "        'rememberme':'false'\n",
    "        }\n",
    "print(payload)"
   ]
  },
  {
   "cell_type": "code",
   "execution_count": null,
   "metadata": {},
   "outputs": [],
   "source": [
    "\n",
    "#url for tain file\n",
    "url='https://www.kaggle.com/c/titanic/download/train.csv'\n",
    "#setup session\n",
    "#headers={\"Content-Type\":\"application/x-www-form-urlencoded\",\"Host\":\"www.kaggle.com\",\"Origin\":\"https://www.kaggle.com\"\\\n",
    "#,\"User-Agent\":\"Mozilla/5.0 (Windows NT 10.0; Win64; x64) AppleWebKit/537.36 (KHTML, like Gecko) Chrome/68.0.3440.106 Safari/537.36\"}\n",
    "with session() as c:\n",
    "    #post request\n",
    "    b=c.get('https://www.kaggle.com/account/login',headers=headers)\n",
    "    print(b.text)\n",
    "    token=re.search(\"\"\"<input name=\"authenticity_token\" type=\"hidden\" value=\"(.*?)\"[^>]*?>\"\"\",b.text,re.S|re.I)\n",
    "    print(token.group(1))\n",
    "\n",
    "    #print(soup.find(attrs={'name' : 'antiForgeryToken'})['value'])\n",
    "    payload={\n",
    "        'action':'Login',\n",
    "        'username':os.getenv(\"KAGGLE_USERNAME\"),\n",
    "        'password':os.getenv(\"KAGGLE_PASSWORD\")  ,\n",
    "        'rememberme':'false',\n",
    "        'authenticity_token' : csrf.group(1),\n",
    "        'authenticity_token':soup.find(attrs={'name' : 'RequestVerificationToken'})['value'],\n",
    "        }  \n",
    "    print(payload)\n",
    "    a=c.post('https://www.kaggle.com/account/login',data=payload)\n",
    "    print(a)\n",
    "    #get request\n",
    "    response=c.get(url)\n",
    "    #print(response.text)"
   ]
  },
  {
   "cell_type": "code",
   "execution_count": null,
   "metadata": {},
   "outputs": [],
   "source": [
    "import logging\n",
    "import requests\n",
    "import re\n",
    "url = \"https://www.kaggle.com/account/login\"\n",
    "\n",
    "s = requests.session()\n",
    "r = s.get(url,verify = False)\n",
    "print(r.text)\n",
    "\n",
    "#matchme = 'meta content=\"(.*)\" name=\"csrf-token\" /\n",
    "\n",
    "#csrf = re.search(matchme,str(r.text))\n",
    "payload = {\n",
    "'username':os.getenv(\"KAGGLE_USERNAME\"),\n",
    "'password':os.getenv(\"KAGGLE_PASSWORD\")  ,\n",
    "'rememberme':'false',\n",
    "'authenticity_token' : csrf.group(1),\n",
    "'_portal_session' : r.cookies[“_portal_session”]\n",
    "}\n",
    "r = s.post(url,data=payload,verify = False)\n",
    "print(r)\n"
   ]
  },
  {
   "cell_type": "code",
   "execution_count": null,
   "metadata": {},
   "outputs": [],
   "source": [
    "from requests import session\n",
    "#payload for login\n",
    "payload={'action':'Login',\n",
    "         'username':os.getenv(\"KAGGLE_USERNAME\")\n",
    "         'password':os.getenv(\"KAGGLE_PASSWORD\")\n",
    "        }\n",
    "\n",
    "def extract_data(url,file_path):\n",
    "    '''\n",
    "    extract data from source website\n",
    "    '''\n",
    "    #setup session\n",
    "    with session as c:\n",
    "        c.post('https://www.kaggle.com/account/login',data=payload)\n",
    "        #open file to write\n",
    "        with open(file_path,'w') as handle:\n",
    "            response=c.get(url,stream=True)\n",
    "            for block in response.iter_content(1024):\n",
    "                handle.write(block)\n",
    "            "
   ]
  },
  {
   "cell_type": "code",
   "execution_count": null,
   "metadata": {},
   "outputs": [],
   "source": [
    "#urls\n",
    "train_url='https://www.kaggle.com/c/titanic/download/train.csv'\n",
    "test_url='https://www.kaggle.com/c/titanic/download/test.csv'\n",
    "\n",
    "#file path\n",
    "raw_data_path=os.path.join(os.path.pardir,'data','raw')\n",
    "train_data_path=os.path.join(os.path.pardir,'train.csv')\n",
    "test_data_path=os.path.join(os.join.pardir,'test.csv')\n",
    "\n",
    "#extract data\n",
    "extract_data(train_url,train_data_path)\n",
    "extract_data(test_url,test_data_path)\n"
   ]
  },
  {
   "cell_type": "code",
   "execution_count": null,
   "metadata": {},
   "outputs": [],
   "source": [
    "!ls -l ../data/raw"
   ]
  },
  {
   "cell_type": "code",
   "execution_count": 3,
   "metadata": {},
   "outputs": [],
   "source": [
    "import os\n",
    "get_raw_data_script_file=os.path.join(os.path.pardir,'src','data','get_raw_data.py')"
   ]
  },
  {
   "cell_type": "code",
   "execution_count": 38,
   "metadata": {},
   "outputs": [
    {
     "name": "stdout",
     "output_type": "stream",
     "text": [
      "Overwriting ..\\src\\data\\get_raw_data.py\n"
     ]
    }
   ],
   "source": [
    "%%writefile $get_raw_data_script_file\n",
    "\n",
    "import os\n",
    "from dotenv import find_dotenv,load_dotenv\n",
    "from requests import session\n",
    "import logging\n",
    "\n",
    "#payload for login to kaggle\n",
    "\n",
    "payload={'action':'Login',\n",
    "         'username':os.getenv(\"KAGGLE_USERNAME\"),\n",
    "         'password':os.getenv(\"KAGGLE_PASSWORD\")\n",
    "        }\n",
    "\n",
    "#extract data file\n",
    "\n",
    "def extract_data(url,file_path):\n",
    "    '''\n",
    "    extract data from source website\n",
    "    '''\n",
    "    #setup session\n",
    "    with session() as c:\n",
    "        c.post('https://www.kaggle.com/account/login',data=payload)\n",
    "        #open file to write\n",
    "        with open(file_path,'w') as handle:\n",
    "            response=c.get(url,stream=True)\n",
    "            for block in response.iter_content(1024):\n",
    "                handle.write(str(block))\n",
    "\n",
    "def main(project_dir):\n",
    "    '''\n",
    "    main method\n",
    "    '''\n",
    "    #get logger\n",
    "    logger=logging.getLogger(__name__)\n",
    "    logger.info('getting raw data')\n",
    "    logger.info(project_dir)\n",
    "    \n",
    "    #urls\n",
    "    train_url='https://www.kaggle.com/c/titanic/download/train.csv'\n",
    "    test_url='https://www.kaggle.com/c/titanic/download/test.csv'\n",
    "\n",
    "    #file path\n",
    "    raw_data_path=os.path.join(project_dir,'data','raw')\n",
    "    train_data_path=os.path.join(raw_data_path,'train.csv')\n",
    "    test_data_path=os.path.join(raw_data_path,'test.csv')\n",
    "    logger.info(train_data_path)\n",
    "    logger.info(test_data_path)\n",
    "    logger.info('passed path')\n",
    "    #Extract Path\n",
    "    extract_data(train_url,train_data_path)\n",
    "    extract_data(test_url,test_data_path)\n",
    "    logger.info('downloaded raw train and test data')\n",
    "    \n",
    "if __name__=='__main__':\n",
    "    #getting root dir\n",
    "    project_dir=os.path.join(os.path.dirname(__file__),os.pardir,os.pardir)\n",
    "    \n",
    "    \n",
    "    #setup logger\n",
    "    log_fmt='%(asctime)s - %(name)s - %(levelname)s - %(message)s'\n",
    "    logging.basicConfig(level=logging.INFO,format=log_fmt)\n",
    "    \n",
    "    #to find env file in upward direction untill it got found\n",
    "    dotenv_path=find_dotenv()\n",
    "    #to load path into load_dotenv\n",
    "    load_dotenv(dotenv_path)\n",
    "\n",
    "    #call the main\n",
    "    main(project_dir)\n",
    "    \n"
   ]
  },
  {
   "cell_type": "code",
   "execution_count": 39,
   "metadata": {},
   "outputs": [
    {
     "name": "stderr",
     "output_type": "stream",
     "text": [
      "2018-08-15 16:57:20,543 - __main__ - INFO - getting raw data\n",
      "2018-08-15 16:57:20,543 - __main__ - INFO - ..\\src\\data\\..\\..\n",
      "2018-08-15 16:57:20,544 - __main__ - INFO - ..\\src\\data\\..\\..\\data\\raw\\train.csv\n",
      "2018-08-15 16:57:20,544 - __main__ - INFO - ..\\src\\data\\..\\..\\data\\raw\\test.csv\n",
      "2018-08-15 16:57:20,544 - __main__ - INFO - passed path\n",
      "2018-08-15 16:57:27,148 - __main__ - INFO - downloaded raw train and test data\n"
     ]
    }
   ],
   "source": [
    "!python $get_raw_data_script_file"
   ]
  },
  {
   "cell_type": "code",
   "execution_count": null,
   "metadata": {},
   "outputs": [],
   "source": []
  }
 ],
 "metadata": {
  "kernelspec": {
   "display_name": "Python 3",
   "language": "python",
   "name": "python3"
  },
  "language_info": {
   "codemirror_mode": {
    "name": "ipython",
    "version": 3
   },
   "file_extension": ".py",
   "mimetype": "text/x-python",
   "name": "python",
   "nbconvert_exporter": "python",
   "pygments_lexer": "ipython3",
   "version": "3.6.4"
  }
 },
 "nbformat": 4,
 "nbformat_minor": 2
}
